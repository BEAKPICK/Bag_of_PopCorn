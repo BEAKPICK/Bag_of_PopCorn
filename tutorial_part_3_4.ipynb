{
  "nbformat": 4,
  "nbformat_minor": 0,
  "metadata": {
    "kernelspec": {
      "display_name": "Python 3",
      "language": "python",
      "name": "python3"
    },
    "language_info": {
      "codemirror_mode": {
        "name": "ipython",
        "version": 3
      },
      "file_extension": ".py",
      "mimetype": "text/x-python",
      "name": "python",
      "nbconvert_exporter": "python",
      "pygments_lexer": "ipython3",
      "version": "3.6.1"
    },
    "colab": {
      "name": "tutorial-part-3-4.ipynb",
      "provenance": [],
      "collapsed_sections": [],
      "toc_visible": true
    }
  },
  "cells": [
    {
      "cell_type": "markdown",
      "metadata": {
        "id": "CqGjBZku1wWm",
        "colab_type": "text"
      },
      "source": [
        "## [Bag of Words Meets Bags of Popcorn | Kaggle](https://www.kaggle.com/c/word2vec-nlp-tutorial#part-3-more-fun-with-word-vectors)\n",
        "\n",
        "\n",
        "# 튜토리얼 파트 3, 4\n",
        "\n",
        "* [DeepLearningMovies/KaggleWord2VecUtility.py at master · wendykan/DeepLearningMovies](https://github.com/wendykan/DeepLearningMovies/blob/master/KaggleWord2VecUtility.py)\n",
        "* 캐글에 링크 되어 있는 github 튜토리얼을 참고하여 만들었으며 파이썬2로 되어있는 소스를 파이썬3에 맞게 일부 수정하였다.\n",
        "\n",
        "###  첫 번째 시도(average feature vectors)\n",
        "- 튜토리얼2의 코드로 벡터의 평균을 구한다.\n",
        "\n",
        "### 두 번째 시도(K-means)\n",
        "- Word2Vec은 의미가 관련있는 단어들의 클러스터를 생성하기 때문에 클러스터 내의 단어 유사성을 이용하는 것이다.\n",
        "- 이런식으로 벡터를 그룹화 하는 것을 \"vector quantization(벡터 양자화)\"라고 한다.\n",
        "- 이를 위해서는 K-means와 같은 클러스터링 알고리즘을 사용하여 클러스터라는 단어의 중심을 찾아야 한다.\n",
        "- 비지도학습인 K-means를 통해 클러스터링을 하고 지도학습인 랜덤포레스트로 리뷰가 추천인지 아닌지를 예측한다."
      ]
    },
    {
      "cell_type": "code",
      "metadata": {
        "id": "bYxGPQ9E1wWo",
        "colab_type": "code",
        "colab": {}
      },
      "source": [
        "import pandas as pd\n",
        "import numpy as np\n",
        "from gensim.models import Word2Vec\n",
        "from sklearn.cluster import KMeans\n",
        "from sklearn.ensemble import RandomForestClassifier\n",
        "\n",
        "from bs4 import BeautifulSoup\n",
        "import re\n",
        "import time\n",
        "\n",
        "from nltk.corpus import stopwords\n",
        "import nltk.data\n",
        "\n",
        "import matplotlib.pyplot as plt\n",
        "import seaborn as sns\n",
        "%matplotlib inline"
      ],
      "execution_count": null,
      "outputs": []
    },
    {
      "cell_type": "code",
      "metadata": {
        "id": "-vM-enW42K_w",
        "colab_type": "code",
        "colab": {
          "base_uri": "https://localhost:8080/",
          "height": 309
        },
        "outputId": "096da6da-4d34-476e-b58c-864fee002a13"
      },
      "source": [
        "# 튜토리얼2에서 생성한 파일을 받아옴\n",
        "!wget https://github.com/corazzon/KaggleStruggle/raw/master/word2vec-nlp-tutorial/300features_40minwords_10text"
      ],
      "execution_count": null,
      "outputs": [
        {
          "output_type": "stream",
          "text": [
            "--2019-08-21 08:54:16--  https://github.com/corazzon/KaggleStruggle/raw/master/word2vec-nlp-tutorial/300features_40minwords_10text\n",
            "Resolving github.com (github.com)... 140.82.113.3\n",
            "Connecting to github.com (github.com)|140.82.113.3|:443... connected.\n",
            "HTTP request sent, awaiting response... 302 Found\n",
            "Location: https://raw.githubusercontent.com/corazzon/KaggleStruggle/master/word2vec-nlp-tutorial/300features_40minwords_10text [following]\n",
            "--2019-08-21 08:54:16--  https://raw.githubusercontent.com/corazzon/KaggleStruggle/master/word2vec-nlp-tutorial/300features_40minwords_10text\n",
            "Resolving raw.githubusercontent.com (raw.githubusercontent.com)... 151.101.0.133, 151.101.64.133, 151.101.128.133, ...\n",
            "Connecting to raw.githubusercontent.com (raw.githubusercontent.com)|151.101.0.133|:443... connected.\n",
            "HTTP request sent, awaiting response... 200 OK\n",
            "Length: 44083172 (42M) [application/octet-stream]\n",
            "Saving to: ‘300features_40minwords_10text.2’\n",
            "\n",
            "300features_40minwo 100%[===================>]  42.04M   215MB/s    in 0.2s    \n",
            "\n",
            "2019-08-21 08:54:17 (215 MB/s) - ‘300features_40minwords_10text.2’ saved [44083172/44083172]\n",
            "\n"
          ],
          "name": "stdout"
        }
      ]
    },
    {
      "cell_type": "code",
      "metadata": {
        "id": "gXKOhQvl48D-",
        "colab_type": "code",
        "colab": {
          "base_uri": "https://localhost:8080/",
          "height": 343
        },
        "outputId": "2a28e585-3ff6-4003-9a98-459527ded95d"
      },
      "source": [
        "# 최근버전에서 pickle을 로드하지 못 하는 문제로 이전 버전을 사용합니다.\n",
        "!pip install --upgrade gensim==3.2.0\n",
        "import gensim\n",
        "gensim.__version__"
      ],
      "execution_count": null,
      "outputs": [
        {
          "output_type": "stream",
          "text": [
            "Requirement already up-to-date: gensim==3.2.0 in /usr/local/lib/python3.6/dist-packages (3.2.0)\n",
            "Requirement already satisfied, skipping upgrade: scipy>=0.18.1 in /usr/local/lib/python3.6/dist-packages (from gensim==3.2.0) (1.3.1)\n",
            "Requirement already satisfied, skipping upgrade: smart-open>=1.2.1 in /usr/local/lib/python3.6/dist-packages (from gensim==3.2.0) (1.8.4)\n",
            "Requirement already satisfied, skipping upgrade: numpy>=1.11.3 in /usr/local/lib/python3.6/dist-packages (from gensim==3.2.0) (1.17.0)\n",
            "Requirement already satisfied, skipping upgrade: six>=1.5.0 in /usr/local/lib/python3.6/dist-packages (from gensim==3.2.0) (1.12.0)\n",
            "Requirement already satisfied, skipping upgrade: boto3 in /usr/local/lib/python3.6/dist-packages (from smart-open>=1.2.1->gensim==3.2.0) (1.9.205)\n",
            "Requirement already satisfied, skipping upgrade: requests in /usr/local/lib/python3.6/dist-packages (from smart-open>=1.2.1->gensim==3.2.0) (2.21.0)\n",
            "Requirement already satisfied, skipping upgrade: boto>=2.32 in /usr/local/lib/python3.6/dist-packages (from smart-open>=1.2.1->gensim==3.2.0) (2.49.0)\n",
            "Requirement already satisfied, skipping upgrade: s3transfer<0.3.0,>=0.2.0 in /usr/local/lib/python3.6/dist-packages (from boto3->smart-open>=1.2.1->gensim==3.2.0) (0.2.1)\n",
            "Requirement already satisfied, skipping upgrade: jmespath<1.0.0,>=0.7.1 in /usr/local/lib/python3.6/dist-packages (from boto3->smart-open>=1.2.1->gensim==3.2.0) (0.9.4)\n",
            "Requirement already satisfied, skipping upgrade: botocore<1.13.0,>=1.12.205 in /usr/local/lib/python3.6/dist-packages (from boto3->smart-open>=1.2.1->gensim==3.2.0) (1.12.205)\n",
            "Requirement already satisfied, skipping upgrade: idna<2.9,>=2.5 in /usr/local/lib/python3.6/dist-packages (from requests->smart-open>=1.2.1->gensim==3.2.0) (2.8)\n",
            "Requirement already satisfied, skipping upgrade: chardet<3.1.0,>=3.0.2 in /usr/local/lib/python3.6/dist-packages (from requests->smart-open>=1.2.1->gensim==3.2.0) (3.0.4)\n",
            "Requirement already satisfied, skipping upgrade: certifi>=2017.4.17 in /usr/local/lib/python3.6/dist-packages (from requests->smart-open>=1.2.1->gensim==3.2.0) (2019.6.16)\n",
            "Requirement already satisfied, skipping upgrade: urllib3<1.25,>=1.21.1 in /usr/local/lib/python3.6/dist-packages (from requests->smart-open>=1.2.1->gensim==3.2.0) (1.24.3)\n",
            "Requirement already satisfied, skipping upgrade: python-dateutil<3.0.0,>=2.1; python_version >= \"2.7\" in /usr/local/lib/python3.6/dist-packages (from botocore<1.13.0,>=1.12.205->boto3->smart-open>=1.2.1->gensim==3.2.0) (2.5.3)\n",
            "Requirement already satisfied, skipping upgrade: docutils<0.15,>=0.10 in /usr/local/lib/python3.6/dist-packages (from botocore<1.13.0,>=1.12.205->boto3->smart-open>=1.2.1->gensim==3.2.0) (0.14)\n"
          ],
          "name": "stdout"
        },
        {
          "output_type": "execute_result",
          "data": {
            "text/plain": [
              "'3.2.0'"
            ]
          },
          "metadata": {
            "tags": []
          },
          "execution_count": 3
        }
      ]
    },
    {
      "cell_type": "code",
      "metadata": {
        "id": "Bcvgzmju1wWr",
        "colab_type": "code",
        "colab": {
          "base_uri": "https://localhost:8080/",
          "height": 88
        },
        "outputId": "9be198c0-1646-47b5-b911-cd4729bc73b0"
      },
      "source": [
        "model = Word2Vec.load('300features_40minwords_10text')\n",
        "model"
      ],
      "execution_count": null,
      "outputs": [
        {
          "output_type": "stream",
          "text": [
            "/usr/local/lib/python3.6/dist-packages/smart_open/smart_open_lib.py:398: UserWarning: This function is deprecated, use smart_open.open instead. See the migration notes for details: https://github.com/RaRe-Technologies/smart_open/blob/master/README.rst#migrating-to-the-new-open-function\n",
            "  'See the migration notes for details: %s' % _MIGRATION_NOTES_URL\n"
          ],
          "name": "stderr"
        },
        {
          "output_type": "execute_result",
          "data": {
            "text/plain": [
              "<gensim.models.word2vec.Word2Vec at 0x7fdd28c694a8>"
            ]
          },
          "metadata": {
            "tags": []
          },
          "execution_count": 4
        }
      ]
    },
    {
      "cell_type": "code",
      "metadata": {
        "id": "vKtUEWz-1wWx",
        "colab_type": "code",
        "colab": {
          "base_uri": "https://localhost:8080/",
          "height": 34
        },
        "outputId": "f5eb3361-9583-4912-b860-cc5d94861852"
      },
      "source": [
        "# 숫자로 단어를 표현\n",
        "# Word2Vec 모델은 어휘의 각 단어에 대한 feature 벡터로 구성되며 \n",
        "# 'syn0'이라는 넘파이 배열로 저장된다.\n",
        "# syn0의 행 수는 모델 어휘의 단어 수\n",
        "# 컬럼 수는 2 부에서 설정 한 피처 벡터의 크기\n",
        "type(model.wv.syn0)"
      ],
      "execution_count": null,
      "outputs": [
        {
          "output_type": "execute_result",
          "data": {
            "text/plain": [
              "numpy.ndarray"
            ]
          },
          "metadata": {
            "tags": []
          },
          "execution_count": 5
        }
      ]
    },
    {
      "cell_type": "code",
      "metadata": {
        "id": "bsKH1qhf1wW1",
        "colab_type": "code",
        "colab": {
          "base_uri": "https://localhost:8080/",
          "height": 34
        },
        "outputId": "0ad9b5f3-0a31-400e-c443-68e5d27b035b"
      },
      "source": [
        "# syn0의 행 수는 모델 어휘의 단어 수\n",
        "# 열 수는 2부에서 설정한 특징 벡터의 크기\n",
        "model.wv.syn0.shape"
      ],
      "execution_count": null,
      "outputs": [
        {
          "output_type": "execute_result",
          "data": {
            "text/plain": [
              "(11986, 300)"
            ]
          },
          "metadata": {
            "tags": []
          },
          "execution_count": 6
        }
      ]
    },
    {
      "cell_type": "code",
      "metadata": {
        "id": "IEWgV7Io1wW4",
        "colab_type": "code",
        "colab": {
          "base_uri": "https://localhost:8080/",
          "height": 34
        },
        "outputId": "5b1e2da6-ffdb-42f7-88c8-36c51d9a1459"
      },
      "source": [
        "# 개별 단어 벡터 접근\n",
        "model.wv['flower'].shape"
      ],
      "execution_count": null,
      "outputs": [
        {
          "output_type": "execute_result",
          "data": {
            "text/plain": [
              "(300,)"
            ]
          },
          "metadata": {
            "tags": []
          },
          "execution_count": 7
        }
      ]
    },
    {
      "cell_type": "code",
      "metadata": {
        "id": "Ip-i_D6S1wW6",
        "colab_type": "code",
        "colab": {
          "base_uri": "https://localhost:8080/",
          "height": 68
        },
        "outputId": "239c33cc-22a6-472b-c80e-e9d0e96e0f01"
      },
      "source": [
        "model.wv['flower'][:10]"
      ],
      "execution_count": null,
      "outputs": [
        {
          "output_type": "execute_result",
          "data": {
            "text/plain": [
              "array([ 0.01834406,  0.15109576,  0.08696021, -0.08180085,  0.18334594,\n",
              "       -0.00667839,  0.09402244, -0.04177794,  0.04398022, -0.03917499],\n",
              "      dtype=float32)"
            ]
          },
          "metadata": {
            "tags": []
          },
          "execution_count": 8
        }
      ]
    },
    {
      "cell_type": "markdown",
      "metadata": {
        "id": "HdqrtJUc1wW8",
        "colab_type": "text"
      },
      "source": [
        "## K-means (K평균)클러스터링으로 데이터 묶기\n",
        "\n",
        "* [K-평균 알고리즘 - 위키백과, 우리 모두의 백과사전](https://ko.wikipedia.org/wiki/K-%ED%8F%89%EA%B7%A0_%EC%95%8C%EA%B3%A0%EB%A6%AC%EC%A6%98)\n",
        "\n",
        "- 클러스터링은 비지도 학습 기법\n",
        "- 클러스터링은 유사성 등 개념에 기초해 몇몇 그룹으로 분류하는 기법\n",
        "- 클러스터링의 목적은 샘플(실수로 구성된 n차원의 벡터)을 내부적으로는 비슷하지만 외부적으로 공통 분모가 없는 여러 그룹으로 묶는 것\n",
        "- 특정 차원의 범위가 다른 차원과 차이가 크면 클러스터링 하기 전에 스케일을 조정해야 한다.\n",
        "\n",
        "    1. 최초 센트로이드(centroid)(중심점)로 k개의 벡터를 무작위로 선정한다.\n",
        "    2. 각 샘플을 그 위치에서 가장 가까운 센트로이드에 할당한다.\n",
        "    3. 센트로이드의 위치를 재계산한다.\n",
        "    4. 센트로이드가 더 이상 움직이지 않을 때까지 2와 3을 반복한다.\n",
        "\n",
        "참고 : [책] 모두의 데이터 과학(with 파이썬)"
      ]
    },
    {
      "cell_type": "code",
      "metadata": {
        "id": "QG8Ix_1D1wW9",
        "colab_type": "code",
        "colab": {
          "base_uri": "https://localhost:8080/",
          "height": 34
        },
        "outputId": "0ce75169-e649-4fde-b8b3-82c6dfcb515a"
      },
      "source": [
        "# 단어 벡터에서 k-means를 실행하고 일부 클러스터를 찍어본다.\n",
        "start = time.time() # 시작시간\n",
        "\n",
        "# 클러스터의 크기 \"k\"를 어휘 크기의 1/5 이나 평균 5단어로 설정한다.\n",
        "word_vectors = model.wv.syn0 # 어휘의 feature vector\n",
        "num_clusters = word_vectors.shape[0] / 5\n",
        "num_clusters = int(num_clusters)\n",
        "\n",
        "# K means 를 정의하고 학습시킨다.\n",
        "kmeans_clustering = KMeans( n_clusters = num_clusters )\n",
        "idx = kmeans_clustering.fit_predict( word_vectors )\n",
        "\n",
        "# 끝난시간에서 시작시간을 빼서 걸린 시간을 구한다.\n",
        "end = time.time()\n",
        "elapsed = end - start\n",
        "print(\"Time taken for K Means clustering: \", elapsed, \"seconds.\")"
      ],
      "execution_count": null,
      "outputs": [
        {
          "output_type": "stream",
          "text": [
            "Time taken for K Means clustering:  848.4580097198486 seconds.\n"
          ],
          "name": "stdout"
        }
      ]
    },
    {
      "cell_type": "code",
      "metadata": {
        "id": "663CYxjC1wXA",
        "colab_type": "code",
        "colab": {
          "base_uri": "https://localhost:8080/",
          "height": 547
        },
        "outputId": "3ad052e7-fd45-433e-a0a5-2e9b95259597"
      },
      "source": [
        "# 각 어휘 단어를 클러스터 번호에 매핑되게 word/Index 사전을 만든다.\n",
        "idx = list(idx)\n",
        "names = model.wv.index2word\n",
        "word_centroid_map = {names[i]: idx[i] for i in range(len(names))}\n",
        "#     word_centroid_map = dict(zip( model.wv.index2word, idx ))\n",
        "\n",
        "# 첫번째 클러스터의 처음 10개를 출력\n",
        "for cluster in range(0,10):\n",
        "    # 클러스터 번호를 출력\n",
        "    print(\"\\nCluster {}\".format(cluster))\n",
        "    \n",
        "    # 클러스터번호와 클러스터에 있는 단어를 찍는다.\n",
        "    words = []\n",
        "    for i in range(0,len(list(word_centroid_map.values()))):\n",
        "        if( list(word_centroid_map.values())[i] == cluster ):\n",
        "            words.append(list(word_centroid_map.keys())[i])\n",
        "    print(words)"
      ],
      "execution_count": null,
      "outputs": [
        {
          "output_type": "stream",
          "text": [
            "\n",
            "Cluster 0\n",
            "['door', 'mirror', 'gate', 'curtain', 'monitor', 'panel', 'doorway', 'portal', 'dome', 'vertic']\n",
            "\n",
            "Cluster 1\n",
            "['rice', 'jani', 'teresa', 'jen', 'rudolph', 'isabel', 'burnett', 'tudor', 'bewitch', 'solomon', 'devo', 'joplin', 'ada', 'courtship', 'anai', 'kiki', 'bey', 'fischer']\n",
            "\n",
            "Cluster 2\n",
            "['identifi', 'sympath', 'empath', 'sympathis', 'empathis']\n",
            "\n",
            "Cluster 3\n",
            "['use', 'usag']\n",
            "\n",
            "Cluster 4\n",
            "['tyrant', 'serpent', 'messiah', 'hussein']\n",
            "\n",
            "Cluster 5\n",
            "['belt', 'stamp']\n",
            "\n",
            "Cluster 6\n",
            "['domin', 'environ', 'oppress', 'primit']\n",
            "\n",
            "Cluster 7\n",
            "['superior', 'surpass', 'inferior']\n",
            "\n",
            "Cluster 8\n",
            "['uneven', 'unfocus']\n",
            "\n",
            "Cluster 9\n",
            "['escap', 'rescu', 'awaken', 'flee', 'exit', 'greet', 'clutch', 'retreat', 'ditch', 'forg', 'evict', 'withdraw', 'perish', 'rehabilit', 'trespass']\n"
          ],
          "name": "stdout"
        }
      ]
    },
    {
      "cell_type": "code",
      "metadata": {
        "id": "vrhl3bkI1wXC",
        "colab_type": "code",
        "colab": {}
      },
      "source": [
        "\"\"\"\n",
        "판다스로 데이터프레임 형태의 데이터로 읽어온다.\n",
        "QUOTE_MINIMAL (0), QUOTE_ALL (1), \n",
        "QUOTE_NONNUMERIC (2) or QUOTE_NONE (3).\n",
        "\n",
        "그리고 이전 튜토리얼에서 했던 것처럼 clean_train_reviews 와 \n",
        "clean_test_reviews 로 텍스트를 정제한다.\n",
        "\"\"\"\n",
        "# 레이블인 sentiment 가 있는 학습 데이터\n",
        "train = pd.read_csv('https://raw.githubusercontent.com/corazzon/KaggleStruggle/master/word2vec-nlp-tutorial/data/labeledTrainData.tsv', delimiter='\\t', quoting=3)\n",
        "# 레이블이 없는 테스트 데이터\n",
        "test = pd.read_csv('https://raw.githubusercontent.com/corazzon/KaggleStruggle/master/word2vec-nlp-tutorial/data/testData.tsv', delimiter='\\t', quoting=3)\n",
        "\n",
        "# unlabeled_train = pd.read_csv('https://raw.githubusercontent.com/corazzon/KaggleStruggle/master/word2vec-nlp-tutorial/data/unlabeledTrainData.tsv', \n",
        "#                               header=0, delimiter='\\t', quoting=3)"
      ],
      "execution_count": null,
      "outputs": []
    },
    {
      "cell_type": "code",
      "metadata": {
        "id": "0zQrVHvxIcXr",
        "colab_type": "code",
        "colab": {
          "base_uri": "https://localhost:8080/",
          "height": 309
        },
        "outputId": "88d20e3b-60bc-4e84-d281-52d23e78e2d1"
      },
      "source": [
        "!wget https://github.com/corazzon/KaggleStruggle/raw/master/word2vec-nlp-tutorial/KaggleWord2VecUtility.py"
      ],
      "execution_count": null,
      "outputs": [
        {
          "output_type": "stream",
          "text": [
            "--2019-08-21 09:09:00--  https://github.com/corazzon/KaggleStruggle/raw/master/word2vec-nlp-tutorial/KaggleWord2VecUtility.py\n",
            "Resolving github.com (github.com)... 192.30.255.113\n",
            "Connecting to github.com (github.com)|192.30.255.113|:443... connected.\n",
            "HTTP request sent, awaiting response... 302 Found\n",
            "Location: https://raw.githubusercontent.com/corazzon/KaggleStruggle/master/word2vec-nlp-tutorial/KaggleWord2VecUtility.py [following]\n",
            "--2019-08-21 09:09:00--  https://raw.githubusercontent.com/corazzon/KaggleStruggle/master/word2vec-nlp-tutorial/KaggleWord2VecUtility.py\n",
            "Resolving raw.githubusercontent.com (raw.githubusercontent.com)... 151.101.0.133, 151.101.64.133, 151.101.128.133, ...\n",
            "Connecting to raw.githubusercontent.com (raw.githubusercontent.com)|151.101.0.133|:443... connected.\n",
            "HTTP request sent, awaiting response... 200 OK\n",
            "Length: 3250 (3.2K) [text/plain]\n",
            "Saving to: ‘KaggleWord2VecUtility.py.1’\n",
            "\n",
            "\r          KaggleWor   0%[                    ]       0  --.-KB/s               \rKaggleWord2VecUtili 100%[===================>]   3.17K  --.-KB/s    in 0s      \n",
            "\n",
            "2019-08-21 09:09:00 (54.8 MB/s) - ‘KaggleWord2VecUtility.py.1’ saved [3250/3250]\n",
            "\n"
          ],
          "name": "stdout"
        }
      ]
    },
    {
      "cell_type": "code",
      "metadata": {
        "id": "WElhgKITMCqq",
        "colab_type": "code",
        "colab": {
          "base_uri": "https://localhost:8080/",
          "height": 68
        },
        "outputId": "e3d6220c-6fe4-4f7a-822b-c000fe73fe82"
      },
      "source": [
        "import nltk\n",
        "nltk.download('stopwords')"
      ],
      "execution_count": null,
      "outputs": [
        {
          "output_type": "stream",
          "text": [
            "[nltk_data] Downloading package stopwords to /root/nltk_data...\n",
            "[nltk_data]   Package stopwords is already up-to-date!\n"
          ],
          "name": "stdout"
        },
        {
          "output_type": "execute_result",
          "data": {
            "text/plain": [
              "True"
            ]
          },
          "metadata": {
            "tags": []
          },
          "execution_count": 13
        }
      ]
    },
    {
      "cell_type": "code",
      "metadata": {
        "id": "EiuL8P3a1wXE",
        "colab_type": "code",
        "colab": {}
      },
      "source": [
        "from KaggleWord2VecUtility import KaggleWord2VecUtility\n",
        "# 학습 리뷰를 정제한다.\n",
        "clean_train_reviews = []\n",
        "for review in train[\"review\"]:\n",
        "    clean_train_reviews.append(\n",
        "        KaggleWord2VecUtility.review_to_wordlist( review, \\\n",
        "        remove_stopwords=True ))"
      ],
      "execution_count": null,
      "outputs": []
    },
    {
      "cell_type": "code",
      "metadata": {
        "id": "83Wj9GhB1wXI",
        "colab_type": "code",
        "colab": {}
      },
      "source": [
        "# 테스트 리뷰를 정제한다.\n",
        "clean_test_reviews = []\n",
        "for review in test[\"review\"]:\n",
        "    clean_test_reviews.append(\n",
        "        KaggleWord2VecUtility.review_to_wordlist( review, \\\n",
        "        remove_stopwords=True ))"
      ],
      "execution_count": null,
      "outputs": []
    },
    {
      "cell_type": "code",
      "metadata": {
        "id": "kg1KFozo1wXK",
        "colab_type": "code",
        "colab": {
          "base_uri": "https://localhost:8080/",
          "height": 102
        },
        "outputId": "9bb8b5b1-c292-41e6-e9b4-6cf0fbf615a3"
      },
      "source": [
        "# bags of centroids 생성\n",
        "# 속도를 위해 centroid 학습 세트 bag을 미리 할당 한다.\n",
        "train_centroids = np.zeros((train[\"review\"].size, num_clusters), \\\n",
        "    dtype=\"float32\" )\n",
        "\n",
        "train_centroids[:5]"
      ],
      "execution_count": null,
      "outputs": [
        {
          "output_type": "execute_result",
          "data": {
            "text/plain": [
              "array([[0., 0., 0., ..., 0., 0., 0.],\n",
              "       [0., 0., 0., ..., 0., 0., 0.],\n",
              "       [0., 0., 0., ..., 0., 0., 0.],\n",
              "       [0., 0., 0., ..., 0., 0., 0.],\n",
              "       [0., 0., 0., ..., 0., 0., 0.]], dtype=float32)"
            ]
          },
          "metadata": {
            "tags": []
          },
          "execution_count": 16
        }
      ]
    },
    {
      "cell_type": "code",
      "metadata": {
        "id": "_rHmjJcD1wXM",
        "colab_type": "code",
        "colab": {}
      },
      "source": [
        "# centroid 는 두 클러스터의 중심점을 정의 한 다음 중심점의 거리를 측정한 것\n",
        "def create_bag_of_centroids( wordlist, word_centroid_map ):\n",
        "    \n",
        "    # 클러스터의 수는 word / centroid map에서 가장 높은 클러스트 인덱스와 같다.\n",
        "    num_centroids = max( word_centroid_map.values() ) + 1\n",
        "    \n",
        "    # 속도를 위해 bag of centroids vector를 미리 할당한다.\n",
        "    bag_of_centroids = np.zeros( num_centroids, dtype=\"float32\" )\n",
        "    \n",
        "    # 루프를 돌며 단어가 word_centroid_map에 있다면\n",
        "    # 해당되는 클러스터의 수를 하나씩 증가시켜 준다.\n",
        "    for word in wordlist:\n",
        "        if word in word_centroid_map:\n",
        "            index = word_centroid_map[word]\n",
        "            bag_of_centroids[index] += 1\n",
        "    \n",
        "    # bag of centroids를 반환한다.\n",
        "    return bag_of_centroids"
      ],
      "execution_count": null,
      "outputs": []
    },
    {
      "cell_type": "code",
      "metadata": {
        "id": "sr_ALBrU1wXP",
        "colab_type": "code",
        "colab": {
          "base_uri": "https://localhost:8080/",
          "height": 68
        },
        "outputId": "0ef79d42-87c7-4eed-ca0e-f249323b1506"
      },
      "source": [
        "# 학습 리뷰를 bags of centroids 로 변환한다.\n",
        "counter = 0\n",
        "for review in clean_train_reviews:\n",
        "    train_centroids[counter] = create_bag_of_centroids( review, \\\n",
        "        word_centroid_map )\n",
        "    counter += 1\n",
        "\n",
        "# 테스트 리뷰도 같은 방법으로 반복해 준다.\n",
        "test_centroids = np.zeros(( test[\"review\"].size, num_clusters), \\\n",
        "    dtype=\"float32\" )\n",
        "\n",
        "counter = 0\n",
        "for review in clean_test_reviews:\n",
        "    test_centroids[counter] = create_bag_of_centroids( review, \\\n",
        "        word_centroid_map )\n",
        "    counter += 1\n",
        "\n",
        "\n",
        "# 랜덤포레스트를 사용하여 학습시키고 예측\n",
        "forest = RandomForestClassifier(n_estimators = 100)\n",
        "\n",
        "# train 데이터의 레이블을 통해 학습시키고 예측한다.\n",
        "# 시간이 좀 소요되기 때문에 %time을 통해 걸린 시간을 찍도록 함\n",
        "print(\"Fitting a random forest to labeled training data...\")\n",
        "%time forest = forest.fit(train_centroids, train[\"sentiment\"])"
      ],
      "execution_count": null,
      "outputs": [
        {
          "output_type": "stream",
          "text": [
            "Fitting a random forest to labeled training data...\n",
            "CPU times: user 42.9 s, sys: 69.8 ms, total: 42.9 s\n",
            "Wall time: 42.9 s\n"
          ],
          "name": "stdout"
        }
      ]
    },
    {
      "cell_type": "code",
      "metadata": {
        "id": "mx7khPwn1wXS",
        "colab_type": "code",
        "colab": {
          "base_uri": "https://localhost:8080/",
          "height": 51
        },
        "outputId": "c7575dd4-0691-416b-e5d7-1750fc487aa2"
      },
      "source": [
        "from sklearn.model_selection import cross_val_score\n",
        "%time score = np.mean(cross_val_score(\\\n",
        "    forest, train_centroids, train['sentiment'], cv=10,\\\n",
        "    scoring='roc_auc'))"
      ],
      "execution_count": null,
      "outputs": [
        {
          "output_type": "stream",
          "text": [
            "CPU times: user 6min 18s, sys: 425 ms, total: 6min 19s\n",
            "Wall time: 6min 19s\n"
          ],
          "name": "stdout"
        }
      ]
    },
    {
      "cell_type": "code",
      "metadata": {
        "id": "A5c44gGJ1wXW",
        "colab_type": "code",
        "colab": {
          "base_uri": "https://localhost:8080/",
          "height": 51
        },
        "outputId": "5278452c-a611-40f4-8ffc-0bb9552e51e9"
      },
      "source": [
        "%time result = forest.predict(test_centroids)"
      ],
      "execution_count": null,
      "outputs": [
        {
          "output_type": "stream",
          "text": [
            "CPU times: user 1.95 s, sys: 9.34 ms, total: 1.96 s\n",
            "Wall time: 1.97 s\n"
          ],
          "name": "stdout"
        }
      ]
    },
    {
      "cell_type": "code",
      "metadata": {
        "id": "ZHj_0bih1wXZ",
        "colab_type": "code",
        "colab": {
          "base_uri": "https://localhost:8080/",
          "height": 34
        },
        "outputId": "807dfa33-c400-415a-a50d-63af0f84c006"
      },
      "source": [
        "score"
      ],
      "execution_count": null,
      "outputs": [
        {
          "output_type": "execute_result",
          "data": {
            "text/plain": [
              "0.912013728"
            ]
          },
          "metadata": {
            "tags": []
          },
          "execution_count": 21
        }
      ]
    },
    {
      "cell_type": "code",
      "metadata": {
        "id": "wkEG5QCC1wXb",
        "colab_type": "code",
        "colab": {}
      },
      "source": [
        "# 결과를 csv로 저장\n",
        "output = pd.DataFrame(data={\"id\":test[\"id\"], \"sentiment\":result})\n",
        "output.to_csv(\"submit_BagOfCentroids_{0:.5f}.csv\".format(score), index=False, quoting=3)"
      ],
      "execution_count": null,
      "outputs": []
    },
    {
      "cell_type": "code",
      "metadata": {
        "id": "45F32sAZ1wXe",
        "colab_type": "code",
        "colab": {
          "base_uri": "https://localhost:8080/",
          "height": 354
        },
        "outputId": "c441b6e2-aa0f-4016-e5a8-f910d2a4a4b8"
      },
      "source": [
        "fig, axes = plt.subplots(ncols=2)\n",
        "fig.set_size_inches(12,5)\n",
        "sns.countplot(train['sentiment'], ax=axes[0])\n",
        "sns.countplot(output['sentiment'], ax=axes[1])"
      ],
      "execution_count": null,
      "outputs": [
        {
          "output_type": "execute_result",
          "data": {
            "text/plain": [
              "<matplotlib.axes._subplots.AxesSubplot at 0x7fdd10622c88>"
            ]
          },
          "metadata": {
            "tags": []
          },
          "execution_count": 23
        },
        {
          "output_type": "display_data",
          "data": {
            "image/png": "[encoded data removed]",
            "text/plain": [
              "<Figure size 864x360 with 2 Axes>"
            ]
          },
          "metadata": {
            "tags": []
          }
        }
      ]
    },
    {
      "cell_type": "code",
      "metadata": {
        "id": "9NpzdFX5POX-",
        "colab_type": "code",
        "colab": {
          "base_uri": "https://localhost:8080/",
          "height": 68
        },
        "outputId": "3c924ff8-a1ce-42fb-98bb-be12f90f8b7e"
      },
      "source": [
        "output_sentiment = output['sentiment'].value_counts()\n",
        "output_sentiment"
      ],
      "execution_count": null,
      "outputs": [
        {
          "output_type": "execute_result",
          "data": {
            "text/plain": [
              "0    12634\n",
              "1    12366\n",
              "Name: sentiment, dtype: int64"
            ]
          },
          "metadata": {
            "tags": []
          },
          "execution_count": 24
        }
      ]
    },
    {
      "cell_type": "code",
      "metadata": {
        "id": "UJM17pmu1wXj",
        "colab_type": "code",
        "colab": {
          "base_uri": "https://localhost:8080/",
          "height": 85
        },
        "outputId": "f55118c6-14e1-4d46-c2a2-ae49b4c6c50a"
      },
      "source": [
        "output_sentiment = output['sentiment'].value_counts()\n",
        "print(output_sentiment[0] - output_sentiment[1])\n",
        "output_sentiment"
      ],
      "execution_count": null,
      "outputs": [
        {
          "output_type": "stream",
          "text": [
            "268\n"
          ],
          "name": "stdout"
        },
        {
          "output_type": "execute_result",
          "data": {
            "text/plain": [
              "0    12634\n",
              "1    12366\n",
              "Name: sentiment, dtype: int64"
            ]
          },
          "metadata": {
            "tags": []
          },
          "execution_count": 25
        }
      ]
    },
    {
      "cell_type": "code",
      "metadata": {
        "id": "xe2qEWjz1wXt",
        "colab_type": "code",
        "colab": {
          "base_uri": "https://localhost:8080/",
          "height": 34
        },
        "outputId": "9924a1cb-3549-40cd-c8d1-28ea38eacad9"
      },
      "source": [
        "# 캐글 점수 0.84908\n",
        "print(330/528)"
      ],
      "execution_count": null,
      "outputs": [
        {
          "output_type": "stream",
          "text": [
            "0.625\n"
          ],
          "name": "stdout"
        }
      ]
    },
    {
      "cell_type": "markdown",
      "metadata": {
        "id": "IH_flVov1wXz",
        "colab_type": "text"
      },
      "source": [
        "### 왜 이 튜토리얼에서는 Bag of Words가 더 좋은 결과를 가져올까?\n",
        "\n",
        "벡터를 평균화하고 centroids를 사용하면 단어 순서가 어긋나며 Bag of Words 개념과 매우 비슷하다. 성능이 (표준 오차의 범위 내에서) 비슷하기 때문에 튜토리얼 1, 2, 3이 동등한 결과를 가져온다.\n",
        "\n",
        "첫째, Word2Vec을 더 많은 텍스트로 학습시키면 성능이 좋아진다. Google의 결과는 10 억 단어가 넘는 코퍼스에서 배운 단어 벡터를 기반으로 한다. 학습 레이블이 있거나 레이블이 없는 학습 세트는 단지 대략 천팔백만 단어 정도다. 편의상 Word2Vec은 Google의 원래 C도구에서 출력되는 사전 학습 된 모델을 로드하는 기능을 제공하기 때문에 C로 모델을 학습 한 다음 Python으로 가져올 수도 있다.\n",
        "\n",
        "둘째, 출판 된 자료들에서 분산 워드 벡터 기술은 Bag of Words 모델보다 우수한 것으로 나타났다. 이 논문에서는 IMDB 데이터 집합에 단락 벡터 (Paragraph Vector)라는 알고리즘을 사용하여 현재까지의 최첨단 결과 중 일부를 생성한다. 단락 벡터는 단어 순서 정보를 보존하는 반면 벡터 평균화 및 클러스터링은 단어 순서를 잃어 버리기 때문에 여기에서 시도하는 방식보다 부분적으로 더 좋다.\n",
        "\n",
        "\n",
        "* 더 공부하기 : 스탠포드 NLP 강의 : [Lecture 1 | Natural Language Processing with Deep Learning - YouTube](https://www.youtube.com/watch?v=OQQ-W_63UgQ&list=PL3FW7Lu3i5Jsnh1rnUwq_TcylNr7EkRe6)"
      ]
    },
    {
      "cell_type": "code",
      "metadata": {
        "id": "n36JtnDW1wX0",
        "colab_type": "code",
        "colab": {}
      },
      "source": [
        ""
      ],
      "execution_count": null,
      "outputs": []
    }
  ]
}